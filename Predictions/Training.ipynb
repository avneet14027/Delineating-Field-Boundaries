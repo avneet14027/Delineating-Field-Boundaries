{
  "nbformat": 4,
  "nbformat_minor": 0,
  "metadata": {
    "accelerator": "GPU",
    "colab": {
      "name": "Training.ipynb",
      "provenance": [],
      "collapsed_sections": [],
      "machine_shape": "hm"
    },
    "kernelspec": {
      "display_name": "Python 3",
      "name": "python3"
    },
    "language_info": {
      "name": "python"
    }
  },
  "cells": [
    {
      "cell_type": "code",
      "metadata": {
        "colab": {
          "base_uri": "https://localhost:8080/"
        },
        "id": "mfaKxz24-ZPC",
        "outputId": "038e67e0-f5b2-4b21-9e37-ac9edb8085d9"
      },
      "source": [
        "%%capture\n",
        "from google.colab import drive \n",
        "from importlib import reload\n",
        "\n",
        "drive.mount('/content/gdrive',force_remount=True)"
      ],
      "execution_count": null,
      "outputs": [
        {
          "output_type": "stream",
          "text": [
            "Go to this URL in a browser: https://accounts.google.com/o/oauth2/auth?client_id=947318989803-6bn6qk8qdgf4n4g3pfee6491hc0brc4i.apps.googleusercontent.com&redirect_uri=urn%3aietf%3awg%3aoauth%3a2.0%3aoob&scope=email%20https%3a%2f%2fwww.googleapis.com%2fauth%2fdocs.test%20https%3a%2f%2fwww.googleapis.com%2fauth%2fdrive%20https%3a%2f%2fwww.googleapis.com%2fauth%2fdrive.photos.readonly%20https%3a%2f%2fwww.googleapis.com%2fauth%2fpeopleapi.readonly%20https%3a%2f%2fwww.googleapis.com%2fauth%2fdrive.activity.readonly%20https%3a%2f%2fwww.googleapis.com%2fauth%2fexperimentsandconfigs%20https%3a%2f%2fwww.googleapis.com%2fauth%2fphotos.native&response_type=code\n",
            "\n",
            "Enter your authorization code:\n",
            "4/1AY0e-g7jsXcuWE3PxwjtVFf2GNBS8AcLLbD7PKFedOnnM7ywA5_LmDPhOiU\n"
          ],
          "name": "stdout"
        }
      ]
    },
    {
      "cell_type": "code",
      "metadata": {
        "colab": {
          "base_uri": "https://localhost:8080/"
        },
        "id": "R7wpGv_IEVdQ",
        "outputId": "3984b183-7e1f-46c5-fc41-ee19896ea3c4"
      },
      "source": [
        "!pip install -U git+https://github.com/albu/albumentations\n",
        "!pip install tensorflow==\"2.1.0\""
      ],
      "execution_count": null,
      "outputs": [
        {
          "output_type": "stream",
          "text": [
            "Collecting git+https://github.com/albu/albumentations\n",
            "  Cloning https://github.com/albu/albumentations to /tmp/pip-req-build-90g7sr6m\n",
            "  Running command git clone -q https://github.com/albu/albumentations /tmp/pip-req-build-90g7sr6m\n",
            "Requirement already satisfied, skipping upgrade: numpy>=1.11.1 in /usr/local/lib/python3.7/dist-packages (from albumentations==1.0.0) (1.19.5)\n",
            "Requirement already satisfied, skipping upgrade: scipy in /usr/local/lib/python3.7/dist-packages (from albumentations==1.0.0) (1.4.1)\n",
            "Requirement already satisfied, skipping upgrade: scikit-image>=0.16.1 in /usr/local/lib/python3.7/dist-packages (from albumentations==1.0.0) (0.16.2)\n",
            "Requirement already satisfied, skipping upgrade: PyYAML in /usr/local/lib/python3.7/dist-packages (from albumentations==1.0.0) (3.13)\n",
            "Requirement already satisfied, skipping upgrade: opencv-python>=4.1.1 in /usr/local/lib/python3.7/dist-packages (from albumentations==1.0.0) (4.1.2.30)\n",
            "Requirement already satisfied, skipping upgrade: matplotlib!=3.0.0,>=2.0.0 in /usr/local/lib/python3.7/dist-packages (from scikit-image>=0.16.1->albumentations==1.0.0) (3.2.2)\n",
            "Requirement already satisfied, skipping upgrade: imageio>=2.3.0 in /usr/local/lib/python3.7/dist-packages (from scikit-image>=0.16.1->albumentations==1.0.0) (2.4.1)\n",
            "Requirement already satisfied, skipping upgrade: PyWavelets>=0.4.0 in /usr/local/lib/python3.7/dist-packages (from scikit-image>=0.16.1->albumentations==1.0.0) (1.1.1)\n",
            "Requirement already satisfied, skipping upgrade: networkx>=2.0 in /usr/local/lib/python3.7/dist-packages (from scikit-image>=0.16.1->albumentations==1.0.0) (2.5.1)\n",
            "Requirement already satisfied, skipping upgrade: pillow>=4.3.0 in /usr/local/lib/python3.7/dist-packages (from scikit-image>=0.16.1->albumentations==1.0.0) (7.1.2)\n",
            "Requirement already satisfied, skipping upgrade: kiwisolver>=1.0.1 in /usr/local/lib/python3.7/dist-packages (from matplotlib!=3.0.0,>=2.0.0->scikit-image>=0.16.1->albumentations==1.0.0) (1.3.1)\n",
            "Requirement already satisfied, skipping upgrade: python-dateutil>=2.1 in /usr/local/lib/python3.7/dist-packages (from matplotlib!=3.0.0,>=2.0.0->scikit-image>=0.16.1->albumentations==1.0.0) (2.8.1)\n",
            "Requirement already satisfied, skipping upgrade: pyparsing!=2.0.4,!=2.1.2,!=2.1.6,>=2.0.1 in /usr/local/lib/python3.7/dist-packages (from matplotlib!=3.0.0,>=2.0.0->scikit-image>=0.16.1->albumentations==1.0.0) (2.4.7)\n",
            "Requirement already satisfied, skipping upgrade: cycler>=0.10 in /usr/local/lib/python3.7/dist-packages (from matplotlib!=3.0.0,>=2.0.0->scikit-image>=0.16.1->albumentations==1.0.0) (0.10.0)\n",
            "Requirement already satisfied, skipping upgrade: decorator<5,>=4.3 in /usr/local/lib/python3.7/dist-packages (from networkx>=2.0->scikit-image>=0.16.1->albumentations==1.0.0) (4.4.2)\n",
            "Requirement already satisfied, skipping upgrade: six>=1.5 in /usr/local/lib/python3.7/dist-packages (from python-dateutil>=2.1->matplotlib!=3.0.0,>=2.0.0->scikit-image>=0.16.1->albumentations==1.0.0) (1.15.0)\n",
            "Building wheels for collected packages: albumentations\n",
            "  Building wheel for albumentations (setup.py) ... \u001b[?25l\u001b[?25hdone\n",
            "  Created wheel for albumentations: filename=albumentations-1.0.0-cp37-none-any.whl size=98151 sha256=d56131967eb2171b734017bcb26384e96112284bc6609f30a19a6ec93a0119d7\n",
            "  Stored in directory: /tmp/pip-ephem-wheel-cache-li5aq57d/wheels/45/8b/e4/2837bbcf517d00732b8e394f8646f22b8723ac00993230188b\n",
            "Successfully built albumentations\n",
            "Installing collected packages: albumentations\n",
            "  Found existing installation: albumentations 0.1.12\n",
            "    Uninstalling albumentations-0.1.12:\n",
            "      Successfully uninstalled albumentations-0.1.12\n",
            "Successfully installed albumentations-1.0.0\n",
            "Collecting tensorflow==2.1.0\n",
            "\u001b[?25l  Downloading https://files.pythonhosted.org/packages/1d/56/0dbdae2a3c527a119bec0d5cf441655fe030ce1daa6fa6b9542f7dbd8664/tensorflow-2.1.0-cp37-cp37m-manylinux2010_x86_64.whl (421.8MB)\n",
            "\u001b[K     |████████████████████████████████| 421.8MB 37kB/s \n",
            "\u001b[?25hCollecting gast==0.2.2\n",
            "  Downloading https://files.pythonhosted.org/packages/4e/35/11749bf99b2d4e3cceb4d55ca22590b0d7c2c62b9de38ac4a4a7f4687421/gast-0.2.2.tar.gz\n",
            "Requirement already satisfied: protobuf>=3.8.0 in /usr/local/lib/python3.7/dist-packages (from tensorflow==2.1.0) (3.12.4)\n",
            "Requirement already satisfied: keras-preprocessing>=1.1.0 in /usr/local/lib/python3.7/dist-packages (from tensorflow==2.1.0) (1.1.2)\n",
            "Collecting tensorboard<2.2.0,>=2.1.0\n",
            "\u001b[?25l  Downloading https://files.pythonhosted.org/packages/d9/41/bbf49b61370e4f4d245d4c6051dfb6db80cec672605c91b1652ac8cc3d38/tensorboard-2.1.1-py3-none-any.whl (3.8MB)\n",
            "\u001b[K     |████████████████████████████████| 3.9MB 42.5MB/s \n",
            "\u001b[?25hCollecting tensorflow-estimator<2.2.0,>=2.1.0rc0\n",
            "\u001b[?25l  Downloading https://files.pythonhosted.org/packages/18/90/b77c328a1304437ab1310b463e533fa7689f4bfc41549593056d812fab8e/tensorflow_estimator-2.1.0-py2.py3-none-any.whl (448kB)\n",
            "\u001b[K     |████████████████████████████████| 450kB 54.0MB/s \n",
            "\u001b[?25hRequirement already satisfied: grpcio>=1.8.6 in /usr/local/lib/python3.7/dist-packages (from tensorflow==2.1.0) (1.34.1)\n",
            "Requirement already satisfied: google-pasta>=0.1.6 in /usr/local/lib/python3.7/dist-packages (from tensorflow==2.1.0) (0.2.0)\n",
            "Requirement already satisfied: absl-py>=0.7.0 in /usr/local/lib/python3.7/dist-packages (from tensorflow==2.1.0) (0.12.0)\n",
            "Requirement already satisfied: scipy==1.4.1; python_version >= \"3\" in /usr/local/lib/python3.7/dist-packages (from tensorflow==2.1.0) (1.4.1)\n",
            "Requirement already satisfied: termcolor>=1.1.0 in /usr/local/lib/python3.7/dist-packages (from tensorflow==2.1.0) (1.1.0)\n",
            "Requirement already satisfied: astor>=0.6.0 in /usr/local/lib/python3.7/dist-packages (from tensorflow==2.1.0) (0.8.1)\n",
            "Requirement already satisfied: six>=1.12.0 in /usr/local/lib/python3.7/dist-packages (from tensorflow==2.1.0) (1.15.0)\n",
            "Requirement already satisfied: wheel>=0.26; python_version >= \"3\" in /usr/local/lib/python3.7/dist-packages (from tensorflow==2.1.0) (0.36.2)\n",
            "Collecting keras-applications>=1.0.8\n",
            "\u001b[?25l  Downloading https://files.pythonhosted.org/packages/71/e3/19762fdfc62877ae9102edf6342d71b28fbfd9dea3d2f96a882ce099b03f/Keras_Applications-1.0.8-py3-none-any.whl (50kB)\n",
            "\u001b[K     |████████████████████████████████| 51kB 7.9MB/s \n",
            "\u001b[?25hRequirement already satisfied: numpy<2.0,>=1.16.0 in /usr/local/lib/python3.7/dist-packages (from tensorflow==2.1.0) (1.19.5)\n",
            "Requirement already satisfied: opt-einsum>=2.3.2 in /usr/local/lib/python3.7/dist-packages (from tensorflow==2.1.0) (3.3.0)\n",
            "Requirement already satisfied: wrapt>=1.11.1 in /usr/local/lib/python3.7/dist-packages (from tensorflow==2.1.0) (1.12.1)\n",
            "Requirement already satisfied: setuptools in /usr/local/lib/python3.7/dist-packages (from protobuf>=3.8.0->tensorflow==2.1.0) (57.0.0)\n",
            "Requirement already satisfied: google-auth-oauthlib<0.5,>=0.4.1 in /usr/local/lib/python3.7/dist-packages (from tensorboard<2.2.0,>=2.1.0->tensorflow==2.1.0) (0.4.4)\n",
            "Requirement already satisfied: google-auth<2,>=1.6.3 in /usr/local/lib/python3.7/dist-packages (from tensorboard<2.2.0,>=2.1.0->tensorflow==2.1.0) (1.30.0)\n",
            "Requirement already satisfied: markdown>=2.6.8 in /usr/local/lib/python3.7/dist-packages (from tensorboard<2.2.0,>=2.1.0->tensorflow==2.1.0) (3.3.4)\n",
            "Requirement already satisfied: requests<3,>=2.21.0 in /usr/local/lib/python3.7/dist-packages (from tensorboard<2.2.0,>=2.1.0->tensorflow==2.1.0) (2.23.0)\n",
            "Requirement already satisfied: werkzeug>=0.11.15 in /usr/local/lib/python3.7/dist-packages (from tensorboard<2.2.0,>=2.1.0->tensorflow==2.1.0) (1.0.1)\n",
            "Requirement already satisfied: h5py in /usr/local/lib/python3.7/dist-packages (from keras-applications>=1.0.8->tensorflow==2.1.0) (3.1.0)\n",
            "Requirement already satisfied: requests-oauthlib>=0.7.0 in /usr/local/lib/python3.7/dist-packages (from google-auth-oauthlib<0.5,>=0.4.1->tensorboard<2.2.0,>=2.1.0->tensorflow==2.1.0) (1.3.0)\n",
            "Requirement already satisfied: rsa<5,>=3.1.4; python_version >= \"3.6\" in /usr/local/lib/python3.7/dist-packages (from google-auth<2,>=1.6.3->tensorboard<2.2.0,>=2.1.0->tensorflow==2.1.0) (4.7.2)\n",
            "Requirement already satisfied: cachetools<5.0,>=2.0.0 in /usr/local/lib/python3.7/dist-packages (from google-auth<2,>=1.6.3->tensorboard<2.2.0,>=2.1.0->tensorflow==2.1.0) (4.2.2)\n",
            "Requirement already satisfied: pyasn1-modules>=0.2.1 in /usr/local/lib/python3.7/dist-packages (from google-auth<2,>=1.6.3->tensorboard<2.2.0,>=2.1.0->tensorflow==2.1.0) (0.2.8)\n",
            "Requirement already satisfied: importlib-metadata; python_version < \"3.8\" in /usr/local/lib/python3.7/dist-packages (from markdown>=2.6.8->tensorboard<2.2.0,>=2.1.0->tensorflow==2.1.0) (4.0.1)\n",
            "Requirement already satisfied: chardet<4,>=3.0.2 in /usr/local/lib/python3.7/dist-packages (from requests<3,>=2.21.0->tensorboard<2.2.0,>=2.1.0->tensorflow==2.1.0) (3.0.4)\n",
            "Requirement already satisfied: urllib3!=1.25.0,!=1.25.1,<1.26,>=1.21.1 in /usr/local/lib/python3.7/dist-packages (from requests<3,>=2.21.0->tensorboard<2.2.0,>=2.1.0->tensorflow==2.1.0) (1.24.3)\n",
            "Requirement already satisfied: certifi>=2017.4.17 in /usr/local/lib/python3.7/dist-packages (from requests<3,>=2.21.0->tensorboard<2.2.0,>=2.1.0->tensorflow==2.1.0) (2020.12.5)\n",
            "Requirement already satisfied: idna<3,>=2.5 in /usr/local/lib/python3.7/dist-packages (from requests<3,>=2.21.0->tensorboard<2.2.0,>=2.1.0->tensorflow==2.1.0) (2.10)\n",
            "Requirement already satisfied: cached-property; python_version < \"3.8\" in /usr/local/lib/python3.7/dist-packages (from h5py->keras-applications>=1.0.8->tensorflow==2.1.0) (1.5.2)\n",
            "Requirement already satisfied: oauthlib>=3.0.0 in /usr/local/lib/python3.7/dist-packages (from requests-oauthlib>=0.7.0->google-auth-oauthlib<0.5,>=0.4.1->tensorboard<2.2.0,>=2.1.0->tensorflow==2.1.0) (3.1.0)\n",
            "Requirement already satisfied: pyasn1>=0.1.3 in /usr/local/lib/python3.7/dist-packages (from rsa<5,>=3.1.4; python_version >= \"3.6\"->google-auth<2,>=1.6.3->tensorboard<2.2.0,>=2.1.0->tensorflow==2.1.0) (0.4.8)\n",
            "Requirement already satisfied: typing-extensions>=3.6.4; python_version < \"3.8\" in /usr/local/lib/python3.7/dist-packages (from importlib-metadata; python_version < \"3.8\"->markdown>=2.6.8->tensorboard<2.2.0,>=2.1.0->tensorflow==2.1.0) (3.7.4.3)\n",
            "Requirement already satisfied: zipp>=0.5 in /usr/local/lib/python3.7/dist-packages (from importlib-metadata; python_version < \"3.8\"->markdown>=2.6.8->tensorboard<2.2.0,>=2.1.0->tensorflow==2.1.0) (3.4.1)\n",
            "Building wheels for collected packages: gast\n",
            "  Building wheel for gast (setup.py) ... \u001b[?25l\u001b[?25hdone\n",
            "  Created wheel for gast: filename=gast-0.2.2-cp37-none-any.whl size=7557 sha256=0181347f7ea5adaf9478c82d737b4cf2055f75cc75239b0af8d174976f41db7d\n",
            "  Stored in directory: /root/.cache/pip/wheels/5c/2e/7e/a1d4d4fcebe6c381f378ce7743a3ced3699feb89bcfbdadadd\n",
            "Successfully built gast\n",
            "\u001b[31mERROR: tensorflow-probability 0.12.1 has requirement gast>=0.3.2, but you'll have gast 0.2.2 which is incompatible.\u001b[0m\n",
            "Installing collected packages: gast, tensorboard, tensorflow-estimator, keras-applications, tensorflow\n",
            "  Found existing installation: gast 0.4.0\n",
            "    Uninstalling gast-0.4.0:\n",
            "      Successfully uninstalled gast-0.4.0\n",
            "  Found existing installation: tensorboard 2.5.0\n",
            "    Uninstalling tensorboard-2.5.0:\n",
            "      Successfully uninstalled tensorboard-2.5.0\n",
            "  Found existing installation: tensorflow-estimator 2.5.0\n",
            "    Uninstalling tensorflow-estimator-2.5.0:\n",
            "      Successfully uninstalled tensorflow-estimator-2.5.0\n",
            "  Found existing installation: tensorflow 2.5.0\n",
            "    Uninstalling tensorflow-2.5.0:\n",
            "      Successfully uninstalled tensorflow-2.5.0\n",
            "Successfully installed gast-0.2.2 keras-applications-1.0.8 tensorboard-2.1.1 tensorflow-2.1.0 tensorflow-estimator-2.1.0\n"
          ],
          "name": "stdout"
        }
      ]
    },
    {
      "cell_type": "code",
      "metadata": {
        "colab": {
          "base_uri": "https://localhost:8080/"
        },
        "id": "6X-H4qHfFTVl",
        "outputId": "ff814a17-4b09-44ad-bae1-fb8fc3e9705a"
      },
      "source": [
        " import tensorflow as tf\n",
        "(print(tf.__version__))"
      ],
      "execution_count": null,
      "outputs": [
        {
          "output_type": "stream",
          "text": [
            "2.1.0\n"
          ],
          "name": "stdout"
        }
      ]
    },
    {
      "cell_type": "code",
      "metadata": {
        "colab": {
          "base_uri": "https://localhost:8080/"
        },
        "id": "tomVGb6nFVT-",
        "outputId": "21f124a2-b7e6-4a7c-b44e-913fa0c1a902"
      },
      "source": [
        "#Change to the google drive main\n",
        "%cd \"gdrive/My Drive\"\n",
        "\n",
        "#Create a new directory\n",
        "#!mkdir field-delineation\n",
        "\n",
        "#Enter the new directory\n",
        "%cd field-delineation\n",
        "\n",
        "#make a dir for the data\n",
        "#!mkdir Data\n",
        "#!mkdir Data/Training\n",
        "#make an output dir\n",
        "#!mkdir Outputs"
      ],
      "execution_count": null,
      "outputs": [
        {
          "output_type": "stream",
          "text": [
            "/content/gdrive/My Drive\n",
            "/content/gdrive/My Drive/field-delineation\n"
          ],
          "name": "stdout"
        }
      ]
    },
    {
      "cell_type": "code",
      "metadata": {
        "colab": {
          "base_uri": "https://localhost:8080/"
        },
        "id": "33WWuC1cFXmx",
        "outputId": "16ef2f4a-0c6c-4e75-a8d7-89b41d40dcb3"
      },
      "source": [
        "%cd field-delineation"
      ],
      "execution_count": null,
      "outputs": [
        {
          "output_type": "stream",
          "text": [
            "/content/gdrive/My Drive/field-delineation/field-delineation\n"
          ],
          "name": "stdout"
        }
      ]
    },
    {
      "cell_type": "code",
      "metadata": {
        "id": "ZR8epePeFZY8"
      },
      "source": [
        "%%capture\n",
        "!pip install boto3\n",
        "!pip install fs\n",
        "!pip install rasterio\n",
        "!pip install numpy\n",
        "!pip install pandas\n",
        "!pip install shapely\n",
        "!pip install geopandas>=0.8.1\n",
        "!pip install tqdm\n",
        "!pip install python-dateutil\n",
        "!pip install sentinelhub\n",
        "!pip install tqdm\n",
        "!pip install wandb\n",
        "!pip install s2cloudless\n",
        "!pip install dataclasses\n",
        "!pip install pyproj\n",
        "!pip install psycopg2\n",
        "!pip install scipy\n",
        "!pip install scikit-image\n",
        "!pip install setuptools\n",
        "!pip install matplotlib\n",
        "!pip install scikit-learn\n",
        "!pip install lxml\n",
        "!pip install pandarallel"
      ],
      "execution_count": null,
      "outputs": []
    },
    {
      "cell_type": "code",
      "metadata": {
        "id": "jmg3OXe_Fbzc"
      },
      "source": [
        "%%capture\n",
        "!git clone https://github.com/sentinel-hub/eo-flow"
      ],
      "execution_count": null,
      "outputs": []
    },
    {
      "cell_type": "code",
      "metadata": {
        "id": "yu-aI8NEFdYk"
      },
      "source": [
        "%%capture\n",
        "!python setup.py install --user"
      ],
      "execution_count": null,
      "outputs": []
    },
    {
      "cell_type": "code",
      "metadata": {
        "colab": {
          "base_uri": "https://localhost:8080/"
        },
        "id": "Q8tI40GBGepF",
        "outputId": "3e42019a-a008-4afd-d2af-7ed007719efd"
      },
      "source": [
        "print(tf.__version__)\n",
        "!pip install tensorflow-addons=='0.9.1'"
      ],
      "execution_count": null,
      "outputs": [
        {
          "output_type": "stream",
          "text": [
            "2.1.0\n",
            "Collecting tensorflow-addons==0.9.1\n",
            "\u001b[?25l  Downloading https://files.pythonhosted.org/packages/20/aa/3732e4371470d593e8f47ecc6c6277ee8d54053631de3773a5ddf8011ff2/tensorflow_addons-0.9.1-cp37-cp37m-manylinux2010_x86_64.whl (1.0MB)\n",
            "\u001b[K     |████████████████████████████████| 1.0MB 3.0MB/s \n",
            "\u001b[?25hRequirement already satisfied: typeguard>=2.7 in /usr/local/lib/python3.7/dist-packages (from tensorflow-addons==0.9.1) (2.7.1)\n",
            "Installing collected packages: tensorflow-addons\n",
            "Successfully installed tensorflow-addons-0.9.1\n"
          ],
          "name": "stdout"
        }
      ]
    },
    {
      "cell_type": "code",
      "metadata": {
        "colab": {
          "base_uri": "https://localhost:8080/"
        },
        "id": "pp3GCiguCTid",
        "outputId": "ba4de88c-7c7f-4cb3-9fd5-aadbb8b05854"
      },
      "source": [
        "!pip install wandb"
      ],
      "execution_count": null,
      "outputs": [
        {
          "output_type": "stream",
          "text": [
            "Requirement already satisfied: wandb in /usr/local/lib/python3.7/dist-packages (0.10.31)\n",
            "Requirement already satisfied: six>=1.13.0 in /usr/local/lib/python3.7/dist-packages (from wandb) (1.15.0)\n",
            "Requirement already satisfied: psutil>=5.0.0 in /usr/local/lib/python3.7/dist-packages (from wandb) (5.4.8)\n",
            "Requirement already satisfied: PyYAML in /usr/local/lib/python3.7/dist-packages (from wandb) (3.13)\n",
            "Requirement already satisfied: promise<3,>=2.0 in /usr/local/lib/python3.7/dist-packages (from wandb) (2.3)\n",
            "Requirement already satisfied: shortuuid>=0.5.0 in /usr/local/lib/python3.7/dist-packages (from wandb) (1.0.1)\n",
            "Requirement already satisfied: requests<3,>=2.0.0 in /usr/local/lib/python3.7/dist-packages (from wandb) (2.23.0)\n",
            "Requirement already satisfied: python-dateutil>=2.6.1 in /usr/local/lib/python3.7/dist-packages (from wandb) (2.8.1)\n",
            "Requirement already satisfied: configparser>=3.8.1 in /usr/local/lib/python3.7/dist-packages (from wandb) (5.0.2)\n",
            "Requirement already satisfied: Click>=7.0 in /usr/local/lib/python3.7/dist-packages (from wandb) (7.1.2)\n",
            "Requirement already satisfied: subprocess32>=3.5.3 in /usr/local/lib/python3.7/dist-packages (from wandb) (3.5.4)\n",
            "Requirement already satisfied: protobuf>=3.12.0 in /usr/local/lib/python3.7/dist-packages (from wandb) (3.12.4)\n",
            "Requirement already satisfied: pathtools in /usr/local/lib/python3.7/dist-packages (from wandb) (0.1.2)\n",
            "Requirement already satisfied: docker-pycreds>=0.4.0 in /usr/local/lib/python3.7/dist-packages (from wandb) (0.4.0)\n",
            "Requirement already satisfied: GitPython>=1.0.0 in /usr/local/lib/python3.7/dist-packages (from wandb) (3.1.17)\n",
            "Requirement already satisfied: sentry-sdk>=0.4.0 in /usr/local/lib/python3.7/dist-packages (from wandb) (1.1.0)\n",
            "Requirement already satisfied: chardet<4,>=3.0.2 in /usr/local/lib/python3.7/dist-packages (from requests<3,>=2.0.0->wandb) (3.0.4)\n",
            "Requirement already satisfied: idna<3,>=2.5 in /usr/local/lib/python3.7/dist-packages (from requests<3,>=2.0.0->wandb) (2.10)\n",
            "Requirement already satisfied: urllib3!=1.25.0,!=1.25.1,<1.26,>=1.21.1 in /usr/local/lib/python3.7/dist-packages (from requests<3,>=2.0.0->wandb) (1.25.11)\n",
            "Requirement already satisfied: certifi>=2017.4.17 in /usr/local/lib/python3.7/dist-packages (from requests<3,>=2.0.0->wandb) (2020.12.5)\n",
            "Requirement already satisfied: setuptools in /usr/local/lib/python3.7/dist-packages (from protobuf>=3.12.0->wandb) (57.0.0)\n",
            "Requirement already satisfied: gitdb<5,>=4.0.1 in /usr/local/lib/python3.7/dist-packages (from GitPython>=1.0.0->wandb) (4.0.7)\n",
            "Requirement already satisfied: typing-extensions>=3.7.4.0; python_version < \"3.8\" in /usr/local/lib/python3.7/dist-packages (from GitPython>=1.0.0->wandb) (3.7.4.3)\n",
            "Requirement already satisfied: smmap<5,>=3.0.1 in /usr/local/lib/python3.7/dist-packages (from gitdb<5,>=4.0.1->GitPython>=1.0.0->wandb) (4.0.0)\n"
          ],
          "name": "stdout"
        }
      ]
    },
    {
      "cell_type": "code",
      "metadata": {
        "colab": {
          "base_uri": "https://localhost:8080/"
        },
        "id": "9sin-qRGCzaX",
        "outputId": "ba93fba3-592e-46c5-89f4-2ed88c1d3fc0"
      },
      "source": [
        "import wandb\n",
        "from wandb.keras import WandbCallback\n",
        "\n",
        "!wandb login"
      ],
      "execution_count": null,
      "outputs": [
        {
          "output_type": "stream",
          "text": [
            "\u001b[34m\u001b[1mwandb\u001b[0m: You can find your API key in your browser here: https://wandb.ai/authorize\n",
            "\u001b[34m\u001b[1mwandb\u001b[0m: Paste an API key from your profile and hit enter: \n",
            "\u001b[34m\u001b[1mwandb\u001b[0m: Appending key for api.wandb.ai to your netrc file: /root/.netrc\n"
          ],
          "name": "stdout"
        }
      ]
    },
    {
      "cell_type": "code",
      "metadata": {
        "id": "nRwOSrGcFftU"
      },
      "source": [
        "import sys\n",
        "sys.path.insert(0, './eo-flow')\n",
        "\n",
        "from pathlib import Path\n",
        "from typing import Callable, List, Any\n",
        "\n",
        "import geopandas as gpd\n",
        "import matplotlib.pyplot as plt\n",
        "from tqdm.notebook import tqdm\n",
        "\n",
        "from eoflow.models.segmentation_base import segmentation_metrics\n",
        "from eoflow.models.losses import JaccardDistanceLoss, TanimotoDistanceLoss\n",
        "\n",
        "import rasterio"
      ],
      "execution_count": null,
      "outputs": []
    },
    {
      "cell_type": "code",
      "metadata": {
        "id": "HVkeNP8cFj0A"
      },
      "source": [
        "from eoflow.models.segmentation_unets import ResUnetA\n",
        "import tensorflow as tf\n",
        "from tensorflow.keras.preprocessing.image import ImageDataGenerator"
      ],
      "execution_count": null,
      "outputs": []
    },
    {
      "cell_type": "code",
      "metadata": {
        "colab": {
          "base_uri": "https://localhost:8080/"
        },
        "id": "BAOp-B6mFoab",
        "outputId": "402b5b53-cc4d-4ddc-ddb1-4f46d00f15a5"
      },
      "source": [
        "!unzip \"/content/gdrive/My Drive/field-delineation/Data/TrainingDataV1.zip\" -d \"/content\""
      ],
      "execution_count": null,
      "outputs": [
        {
          "output_type": "stream",
          "text": [
            "Archive:  /content/gdrive/My Drive/field-delineation/Data/TrainingDataV1.zip\n",
            "   creating: /content/TrainingDataV1/\n",
            "   creating: /content/TrainingDataV1/boundaries/\n",
            "  inflating: /content/TrainingDataV1/boundaries/S2_32UMG_202003.tif  \n",
            "  inflating: /content/TrainingDataV1/boundaries/S2_32UMG_202004.tif  \n",
            "  inflating: /content/TrainingDataV1/boundaries/S2_32UMG_202005.tif  \n",
            "  inflating: /content/TrainingDataV1/boundaries/S2_32UMG_202006.tif  \n",
            "  inflating: /content/TrainingDataV1/boundaries/S2_32UMG_202007.tif  \n",
            "  inflating: /content/TrainingDataV1/boundaries/S2_32UMG_202008.tif  \n",
            "  inflating: /content/TrainingDataV1/boundaries/S2_32UNG_202003.tif  \n",
            "  inflating: /content/TrainingDataV1/boundaries/S2_32UNG_202004.tif  \n",
            "  inflating: /content/TrainingDataV1/boundaries/S2_32UNG_202005.tif  \n",
            "  inflating: /content/TrainingDataV1/boundaries/S2_32UNG_202006.tif  \n",
            "  inflating: /content/TrainingDataV1/boundaries/S2_32UNG_202007.tif  \n",
            "  inflating: /content/TrainingDataV1/boundaries/S2_32UNG_202008.tif  \n",
            "  inflating: /content/TrainingDataV1/boundaries/S2_32UPG_202003.tif  \n",
            "  inflating: /content/TrainingDataV1/boundaries/S2_32UPG_202004.tif  \n",
            "  inflating: /content/TrainingDataV1/boundaries/S2_32UPG_202005.tif  \n",
            "  inflating: /content/TrainingDataV1/boundaries/S2_32UPG_202006.tif  \n",
            "  inflating: /content/TrainingDataV1/boundaries/S2_32UPG_202007.tif  \n",
            "  inflating: /content/TrainingDataV1/boundaries/S2_32UPG_202008.tif  \n",
            "  inflating: /content/TrainingDataV1/boundaries/S2_32VMH_202003.tif  \n",
            "  inflating: /content/TrainingDataV1/boundaries/S2_32VMH_202004.tif  \n",
            "  inflating: /content/TrainingDataV1/boundaries/S2_32VMH_202005.tif  \n",
            "  inflating: /content/TrainingDataV1/boundaries/S2_32VMH_202006.tif  \n",
            "  inflating: /content/TrainingDataV1/boundaries/S2_32VMH_202007.tif  \n",
            "  inflating: /content/TrainingDataV1/boundaries/S2_32VMH_202008.tif  \n",
            "   creating: /content/TrainingDataV1/distances/\n",
            "  inflating: /content/TrainingDataV1/distances/S2_32UMG_202003.tif  \n",
            "  inflating: /content/TrainingDataV1/distances/S2_32UMG_202004.tif  \n",
            "  inflating: /content/TrainingDataV1/distances/S2_32UMG_202005.tif  \n",
            "  inflating: /content/TrainingDataV1/distances/S2_32UMG_202006.tif  \n",
            "  inflating: /content/TrainingDataV1/distances/S2_32UMG_202007.tif  \n",
            "  inflating: /content/TrainingDataV1/distances/S2_32UMG_202008.tif  \n",
            "  inflating: /content/TrainingDataV1/distances/S2_32UNG_202003.tif  \n",
            "  inflating: /content/TrainingDataV1/distances/S2_32UNG_202004.tif  \n",
            "  inflating: /content/TrainingDataV1/distances/S2_32UNG_202005.tif  \n",
            "  inflating: /content/TrainingDataV1/distances/S2_32UNG_202006.tif  \n",
            "  inflating: /content/TrainingDataV1/distances/S2_32UNG_202007.tif  \n",
            "  inflating: /content/TrainingDataV1/distances/S2_32UNG_202008.tif  \n",
            "  inflating: /content/TrainingDataV1/distances/S2_32UPG_202003.tif  \n",
            "  inflating: /content/TrainingDataV1/distances/S2_32UPG_202004.tif  \n",
            "  inflating: /content/TrainingDataV1/distances/S2_32UPG_202005.tif  \n",
            "  inflating: /content/TrainingDataV1/distances/S2_32UPG_202006.tif  \n",
            "  inflating: /content/TrainingDataV1/distances/S2_32UPG_202007.tif  \n",
            "  inflating: /content/TrainingDataV1/distances/S2_32UPG_202008.tif  \n",
            "  inflating: /content/TrainingDataV1/distances/S2_32VMH_202003.tif  \n",
            "  inflating: /content/TrainingDataV1/distances/S2_32VMH_202004.tif  \n",
            "  inflating: /content/TrainingDataV1/distances/S2_32VMH_202005.tif  \n",
            "  inflating: /content/TrainingDataV1/distances/S2_32VMH_202006.tif  \n",
            "  inflating: /content/TrainingDataV1/distances/S2_32VMH_202007.tif  \n",
            "  inflating: /content/TrainingDataV1/distances/S2_32VMH_202008.tif  \n",
            "   creating: /content/TrainingDataV1/extents/\n",
            "  inflating: /content/TrainingDataV1/extents/S2_32UMG_202003.tif  \n",
            "  inflating: /content/TrainingDataV1/extents/S2_32UMG_202004.tif  \n",
            "  inflating: /content/TrainingDataV1/extents/S2_32UMG_202005.tif  \n",
            "  inflating: /content/TrainingDataV1/extents/S2_32UMG_202006.tif  \n",
            "  inflating: /content/TrainingDataV1/extents/S2_32UMG_202007.tif  \n",
            "  inflating: /content/TrainingDataV1/extents/S2_32UMG_202008.tif  \n",
            "  inflating: /content/TrainingDataV1/extents/S2_32UNG_202003.tif  \n",
            "  inflating: /content/TrainingDataV1/extents/S2_32UNG_202004.tif  \n",
            "  inflating: /content/TrainingDataV1/extents/S2_32UNG_202005.tif  \n",
            "  inflating: /content/TrainingDataV1/extents/S2_32UNG_202006.tif  \n",
            "  inflating: /content/TrainingDataV1/extents/S2_32UNG_202007.tif  \n",
            "  inflating: /content/TrainingDataV1/extents/S2_32UNG_202008.tif  \n",
            "  inflating: /content/TrainingDataV1/extents/S2_32UPG_202003.tif  \n",
            "  inflating: /content/TrainingDataV1/extents/S2_32UPG_202004.tif  \n",
            "  inflating: /content/TrainingDataV1/extents/S2_32UPG_202005.tif  \n",
            "  inflating: /content/TrainingDataV1/extents/S2_32UPG_202006.tif  \n",
            "  inflating: /content/TrainingDataV1/extents/S2_32UPG_202007.tif  \n",
            "  inflating: /content/TrainingDataV1/extents/S2_32UPG_202008.tif  \n",
            "  inflating: /content/TrainingDataV1/extents/S2_32VMH_202003.tif  \n",
            "  inflating: /content/TrainingDataV1/extents/S2_32VMH_202004.tif  \n",
            "  inflating: /content/TrainingDataV1/extents/S2_32VMH_202005.tif  \n",
            "  inflating: /content/TrainingDataV1/extents/S2_32VMH_202006.tif  \n",
            "  inflating: /content/TrainingDataV1/extents/S2_32VMH_202007.tif  \n",
            "  inflating: /content/TrainingDataV1/extents/S2_32VMH_202008.tif  \n",
            "   creating: /content/TrainingDataV1/images/\n",
            "  inflating: /content/TrainingDataV1/images/S2_32UMG_202003.tif  \n",
            "  inflating: /content/TrainingDataV1/images/S2_32UMG_202004.tif  \n",
            "  inflating: /content/TrainingDataV1/images/S2_32UMG_202005.tif  \n",
            "  inflating: /content/TrainingDataV1/images/S2_32UMG_202006.tif  \n",
            "  inflating: /content/TrainingDataV1/images/S2_32UMG_202007.tif  \n",
            "  inflating: /content/TrainingDataV1/images/S2_32UMG_202008.tif  \n",
            "  inflating: /content/TrainingDataV1/images/S2_32UNG_202003.tif  \n",
            "  inflating: /content/TrainingDataV1/images/S2_32UNG_202004.tif  \n",
            " extracting: /content/TrainingDataV1/images/S2_32UNG_202005.tif  \n",
            "  inflating: /content/TrainingDataV1/images/S2_32UNG_202006.tif  \n",
            "  inflating: /content/TrainingDataV1/images/S2_32UNG_202007.tif  \n",
            "  inflating: /content/TrainingDataV1/images/S2_32UNG_202008.tif  \n",
            "  inflating: /content/TrainingDataV1/images/S2_32UPG_202003.tif  \n",
            "  inflating: /content/TrainingDataV1/images/S2_32UPG_202004.tif  \n",
            "  inflating: /content/TrainingDataV1/images/S2_32UPG_202005.tif  \n",
            "  inflating: /content/TrainingDataV1/images/S2_32UPG_202006.tif  \n",
            "  inflating: /content/TrainingDataV1/images/S2_32UPG_202007.tif  \n",
            "  inflating: /content/TrainingDataV1/images/S2_32UPG_202008.tif  \n",
            "  inflating: /content/TrainingDataV1/images/S2_32VMH_202003.tif  \n",
            "  inflating: /content/TrainingDataV1/images/S2_32VMH_202004.tif  \n",
            "  inflating: /content/TrainingDataV1/images/S2_32VMH_202005.tif  \n",
            "  inflating: /content/TrainingDataV1/images/S2_32VMH_202006.tif  \n",
            "  inflating: /content/TrainingDataV1/images/S2_32VMH_202007.tif  \n",
            "  inflating: /content/TrainingDataV1/images/S2_32VMH_202008.tif  \n"
          ],
          "name": "stdout"
        }
      ]
    },
    {
      "cell_type": "code",
      "metadata": {
        "id": "yNISX3hBFrER"
      },
      "source": [
        "import cv2\n",
        "from albumentations import (\n",
        "    Compose, HorizontalFlip, VerticalFlip, HueSaturationValue,\n",
        "    RandomBrightnessContrast\n",
        ")\n",
        "from glob import glob"
      ],
      "execution_count": null,
      "outputs": []
    },
    {
      "cell_type": "code",
      "metadata": {
        "id": "Va0_W2JHFuM3"
      },
      "source": [
        "from skimage.io import imread\n",
        "import os\n",
        "from glob import glob\n",
        "from random import shuffle\n",
        "import numpy as np"
      ],
      "execution_count": null,
      "outputs": []
    },
    {
      "cell_type": "code",
      "metadata": {
        "id": "maR0M6mTFv3B"
      },
      "source": [
        "AUGMENTATIONS = Compose([\n",
        "    HorizontalFlip(p=0.5),\n",
        "    VerticalFlip(p=0.5),\n",
        "    RandomBrightnessContrast(brightness_limit=0.2, contrast_limit=0.2, p=0.5)\n",
        "])"
      ],
      "execution_count": null,
      "outputs": []
    },
    {
      "cell_type": "code",
      "metadata": {
        "id": "oOzCFvEZFxiy"
      },
      "source": [
        "from random import randrange\n",
        "\n",
        "class DataGenerator(tf.keras.utils.Sequence):\n",
        "    def __init__(self, trainPath, augmentations, batch_size=6, patch_size=256):\n",
        "      self.image_path = glob(trainPath + '/images/*.tif')\n",
        "      self.extent_path = glob(trainPath + '/extents/*.tif')\n",
        "      self.boundary_path = glob(trainPath + '/boundaries/*.tif')\n",
        "      self.distance_path = glob(trainPath + '/distances/*.tif')\n",
        "      self.batch_size = batch_size\n",
        "      self.patch_size = patch_size\n",
        "      self.transform = augmentations\n",
        "\n",
        "      # Preprocess\n",
        "      self.mean_ =  np.array([[[ 231.23175052,326.977749,359.47592888,1261.01501689]]])\n",
        "      self.std_ = np.array([[[ 269.11238397,353.12374842,414.48604569,1231.90023677]]])\n",
        "\n",
        "      # Create empty image containers\n",
        "      self.ximage = np.zeros(shape = (batch_size, 256, 256, 4), dtype = np.float32)\n",
        "      self.xextend = np.zeros(shape = (batch_size, 256, 256, 2), dtype = np.float32)\n",
        "      self.xbound = np.zeros(shape = (batch_size, 256, 256, 2), dtype = np.float32)\n",
        "      self.xdist = np.zeros(shape = (batch_size, 256, 256, 2), dtype = np.float32)\n",
        "\n",
        "      # Size\n",
        "      self.length = len(self.image_path) * 2000\n",
        "      self.current_index = 0\n",
        "      self.n_images = 0\n",
        "\n",
        "      #Load the images\n",
        "      self.load_initial(self.image_path, self.extent_path, self.boundary_path, self.distance_path)\n",
        "    \n",
        "    def load_initial (self, image_path, extent_path, boundary_path, distance_path):\n",
        "\n",
        "      if self.current_index >= len(self.image_path):\n",
        "        return\n",
        "\n",
        "      # Load initial set of images\n",
        "      self.image = self.__get_image(self.image_path[self.current_index])\n",
        "      self.extent = self.__get_image(self.extent_path[self.current_index])\n",
        "      self.boundary = self.__get_image(self.boundary_path[self.current_index])\n",
        "      self.distance = self.__get_image(self.distance_path[self.current_index])\n",
        "      self.normalize()\n",
        "    \n",
        "    def normalize(self):\n",
        "      self.image = (self.image - self.mean_) / self.std_\n",
        "      \n",
        "    def __len__(self): \n",
        "      return (self.length // self.batch_size)\n",
        "\n",
        "    def __get_image(self, imagepath):\n",
        "      image_arr = imread(imagepath)\n",
        "      return image_arr\n",
        "\n",
        "    def __getitem__(self, index):\n",
        "      self.n_images += self.batch_size\n",
        "      if self.n_images > 2000:\n",
        "        self.current_index += 1\n",
        "        self.n_images = 0\n",
        "        self.load_initial(self.image_path, self.extent_path, self.boundary_path, self.distance_path)\n",
        "\n",
        "      X, Y = self.__get_data()\n",
        "      return X, Y\n",
        "\n",
        "    def on_epoch_end(self):\n",
        "      self.length = len(self.image_path) * 2000\n",
        "      self.current_index = 0\n",
        "      self.n_images = 0\n",
        "      self.load_initial(self.image_path, self.extent_path, self.boundary_path, self.distance_path)\n",
        "\n",
        "    def __get_data(self):\n",
        "      i = 0\n",
        "      row, col, ch = self.image.shape\n",
        "      while i < self.batch_size:\n",
        "        upper_left_x = randrange(0, row - self.patch_size - 1)\n",
        "        upper_left_y = randrange(0, col - self.patch_size - 1)\n",
        "        crop = [upper_left_x,\n",
        "                         upper_left_y,\n",
        "                         upper_left_x + self.patch_size,\n",
        "                         upper_left_y + self.patch_size]\n",
        "        \n",
        "        temp_img = self.image[crop[0]:crop[2],crop[1]:crop[3],:]\n",
        "        if(np.var(temp_img)>0.5):\n",
        "\n",
        "\n",
        "          # Generate Image\n",
        "          self.ximage[i] = temp_img\n",
        "\n",
        "          # Generate extent\n",
        "          extent = self.extent[crop[0]:crop[2],crop[1]:crop[3]]\n",
        "          extent_ = 1 - extent\n",
        "          self.xextend[i] = np.dstack((extent, extent_))\n",
        "\n",
        "          # Generate boundary\n",
        "          boundary = self.boundary[crop[0]:crop[2],crop[1]:crop[3]]\n",
        "          boundary_ = 1 - boundary\n",
        "          self.xbound[i] = np.dstack((boundary, boundary_))\n",
        "\n",
        "          #Generate distance\n",
        "          distance = self.distance[crop[0]:crop[2],crop[1]:crop[3]]\n",
        "          distance_ = 1 - distance\n",
        "          self.xdist[i]  = np.dstack((distance, distance_))\n",
        "\n",
        "\n",
        "          transformed = self.transform(image=self.ximage[i], masks=[self.xextend[i], self.xbound[i], self.xdist[i]])\n",
        "          self.ximage[i] = transformed['image']\n",
        "          self.xextend[i] = transformed['masks'][0]\n",
        "          self.xbound[i] = transformed['masks'][1]\n",
        "          self.xdist[i] = transformed['masks'][2]\n",
        "\n",
        "          i+=1\n",
        "\n",
        "      return self.ximage, [self.xextend, self.xbound, self.xdist]"
      ],
      "execution_count": null,
      "outputs": []
    },
    {
      "cell_type": "code",
      "metadata": {
        "colab": {
          "base_uri": "https://localhost:8080/"
        },
        "id": "82fVBOQmFzyO",
        "outputId": "508535d6-8e6b-4230-9017-388c2408cb58"
      },
      "source": [
        "train_path = '/content/TrainingDataV1'\n",
        "train_gen = DataGenerator(train_path,augmentations=AUGMENTATIONS)\n",
        "train_gen.__len__()"
      ],
      "execution_count": null,
      "outputs": [
        {
          "output_type": "execute_result",
          "data": {
            "text/plain": [
              "8000"
            ]
          },
          "metadata": {
            "tags": []
          },
          "execution_count": 19
        }
      ]
    },
    {
      "cell_type": "code",
      "metadata": {
        "colab": {
          "base_uri": "https://localhost:8080/"
        },
        "id": "lOl5fkUgb-eC",
        "outputId": "e72d1293-3c5c-4796-afa0-7fa2fd004b7a"
      },
      "source": [
        "for X,y in train_gen:\n",
        "  print(X.shape,y[0].shape,y[1].shape)\n",
        "  break"
      ],
      "execution_count": null,
      "outputs": [
        {
          "output_type": "stream",
          "text": [
            "(6, 256, 256, 4) (6, 256, 256, 2) (6, 256, 256, 2)\n"
          ],
          "name": "stdout"
        }
      ]
    },
    {
      "cell_type": "code",
      "metadata": {
        "id": "3o9SJdowF343"
      },
      "source": [
        "n_classes = 2\n",
        "model_config={\n",
        "        'learning_rate': 0.0001,\n",
        "        'n_layers': 3,\n",
        "        'n_classes': 2,\n",
        "        'keep_prob': 0.8,\n",
        "        'features_root': 32,\n",
        "        'conv_size': 3,\n",
        "        'conv_stride': 1,\n",
        "        'dilation_rate': [1, 3, 15, 31],\n",
        "        'deconv_size': 2,\n",
        "        'add_dropout': True,\n",
        "        'add_batch_norm': False,\n",
        "        'use_bias': False,\n",
        "        'bias_init': 0.0,\n",
        "        'padding': 'SAME',\n",
        "        'pool_size': 3,\n",
        "        'pool_stride': 2,\n",
        "        'prediction_visualization': True,\n",
        "        'class_weights': None\n",
        "}\n",
        "\n",
        "training_config = {\n",
        "    'input_shape': (256, 256, 4),\n",
        "    'n_classes': n_classes,\n",
        "    'batch_size': 6,\n",
        "    'num_epochs': 25,\n",
        "    'model_name': 'field-delineation'\n",
        "}\n",
        "\n",
        "wandb_config =  dict(model_config, \n",
        "                     num_epochs=training_config['num_epochs'], \n",
        "                     batch_size=training_config['batch_size'],\n",
        "                     model_name=training_config['model_name'])\n"
      ],
      "execution_count": null,
      "outputs": []
    },
    {
      "cell_type": "code",
      "metadata": {
        "id": "Mj1LFLPgDzua"
      },
      "source": [
        ""
      ],
      "execution_count": null,
      "outputs": []
    },
    {
      "cell_type": "code",
      "metadata": {
        "colab": {
          "base_uri": "https://localhost:8080/"
        },
        "id": "RrjyUQRVF7GV",
        "outputId": "0bcadaf6-4221-448d-a02a-98b2e0ef1325"
      },
      "source": [
        "from eoflow.models.metrics import MCCMetric\n",
        "mcc_metric = MCCMetric(default_n_classes=2, default_threshold=.5)\n",
        "mcc_metric.init_from_config({'n_classes': 2})\n",
        "\n",
        "model = ResUnetA(model_config)\n",
        "model.build(dict(features=[None] + list(training_config['input_shape'])))\n",
        "\n",
        "\n",
        "model.net.compile(\n",
        "        loss={'extent':'mse',\n",
        "              'boundary':'mse',\n",
        "              'distance':'mse'},\n",
        "        optimizer='adam',\n",
        "        metrics=[segmentation_metrics['accuracy'](), tf.keras.metrics.MeanIoU(num_classes=training_config['n_classes'])])\n"
      ],
      "execution_count": null,
      "outputs": [
        {
          "output_type": "stream",
          "text": [
            "Using default value for threshold: 0.5.\n"
          ],
          "name": "stdout"
        }
      ]
    },
    {
      "cell_type": "code",
      "metadata": {
        "colab": {
          "base_uri": "https://localhost:8080/"
        },
        "id": "kVkbOUF0F_1k",
        "outputId": "ef5b847a-7641-4bac-c1ac-a5d11052ec0a"
      },
      "source": [
        "model.net.summary()"
      ],
      "execution_count": null,
      "outputs": [
        {
          "output_type": "stream",
          "text": [
            "Model: \"model\"\n",
            "__________________________________________________________________________________________________\n",
            "Layer (type)                    Output Shape         Param #     Connected to                     \n",
            "==================================================================================================\n",
            "features (InputLayer)           [(None, 256, 256, 4) 0                                            \n",
            "__________________________________________________________________________________________________\n",
            "conv2d (Conv2D)                 (None, 256, 256, 32) 256         features[0][0]                   \n",
            "__________________________________________________________________________________________________\n",
            "res_conv2d (ResConv2D)          (None, 256, 256, 32) 73728       conv2d[0][0]                     \n",
            "__________________________________________________________________________________________________\n",
            "conv2d_14 (Conv2D)              (None, 128, 128, 64) 18432       res_conv2d[0][0]                 \n",
            "__________________________________________________________________________________________________\n",
            "res_conv2d_1 (ResConv2D)        (None, 128, 128, 64) 294912      conv2d_14[0][0]                  \n",
            "__________________________________________________________________________________________________\n",
            "conv2d_28 (Conv2D)              (None, 64, 64, 128)  73728       res_conv2d_1[0][0]               \n",
            "__________________________________________________________________________________________________\n",
            "res_conv2d_2 (ResConv2D)        (None, 64, 64, 128)  884736      conv2d_28[0][0]                  \n",
            "__________________________________________________________________________________________________\n",
            "conv2d_39 (Conv2D)              (None, 32, 32, 256)  294912      res_conv2d_2[0][0]               \n",
            "__________________________________________________________________________________________________\n",
            "res_conv2d_3 (ResConv2D)        (None, 32, 32, 256)  3538944     conv2d_39[0][0]                  \n",
            "__________________________________________________________________________________________________\n",
            "conv2d_50 (Conv2D)              (None, 16, 16, 512)  1179648     res_conv2d_3[0][0]               \n",
            "__________________________________________________________________________________________________\n",
            "res_conv2d_4 (ResConv2D)        (None, 16, 16, 512)  4718592     conv2d_50[0][0]                  \n",
            "__________________________________________________________________________________________________\n",
            "conv2d_55 (Conv2D)              (None, 8, 8, 1024)   4718592     res_conv2d_4[0][0]               \n",
            "__________________________________________________________________________________________________\n",
            "res_conv2d_5 (ResConv2D)        (None, 8, 8, 1024)   18874368    conv2d_55[0][0]                  \n",
            "__________________________________________________________________________________________________\n",
            "pyramid_pooling_module (Pyramid (None, 8, 8, 2048)   1052672     res_conv2d_5[0][0]               \n",
            "__________________________________________________________________________________________________\n",
            "deconv2d (Deconv2D)             (None, 16, 16, 1024) 8389632     pyramid_pooling_module[0][0]     \n",
            "__________________________________________________________________________________________________\n",
            "crop_and_concat (CropAndConcat) (None, 16, 16, 1536) 0           res_conv2d_4[0][0]               \n",
            "__________________________________________________________________________________________________\n",
            "conv2d_60 (Conv2D)              (None, 16, 16, 512)  788480      crop_and_concat[0][0]            \n",
            "__________________________________________________________________________________________________\n",
            "res_conv2d_6 (ResConv2D)        (None, 16, 16, 512)  4718592     conv2d_60[0][0]                  \n",
            "__________________________________________________________________________________________________\n",
            "deconv2d_1 (Deconv2D)           (None, 32, 32, 512)  1049088     res_conv2d_6[0][0]               \n",
            "__________________________________________________________________________________________________\n",
            "crop_and_concat_1 (CropAndConca (None, 32, 32, 768)  0           res_conv2d_3[0][0]               \n",
            "__________________________________________________________________________________________________\n",
            "conv2d_65 (Conv2D)              (None, 32, 32, 256)  197632      crop_and_concat_1[0][0]          \n",
            "__________________________________________________________________________________________________\n",
            "res_conv2d_7 (ResConv2D)        (None, 32, 32, 256)  3538944     conv2d_65[0][0]                  \n",
            "__________________________________________________________________________________________________\n",
            "deconv2d_2 (Deconv2D)           (None, 64, 64, 256)  262400      res_conv2d_7[0][0]               \n",
            "__________________________________________________________________________________________________\n",
            "crop_and_concat_2 (CropAndConca (None, 64, 64, 384)  0           res_conv2d_2[0][0]               \n",
            "__________________________________________________________________________________________________\n",
            "conv2d_76 (Conv2D)              (None, 64, 64, 128)  49664       crop_and_concat_2[0][0]          \n",
            "__________________________________________________________________________________________________\n",
            "res_conv2d_8 (ResConv2D)        (None, 64, 64, 128)  884736      conv2d_76[0][0]                  \n",
            "__________________________________________________________________________________________________\n",
            "deconv2d_3 (Deconv2D)           (None, 128, 128, 128 65664       res_conv2d_8[0][0]               \n",
            "__________________________________________________________________________________________________\n",
            "crop_and_concat_3 (CropAndConca (None, 128, 128, 192 0           res_conv2d_1[0][0]               \n",
            "__________________________________________________________________________________________________\n",
            "conv2d_87 (Conv2D)              (None, 128, 128, 64) 12544       crop_and_concat_3[0][0]          \n",
            "__________________________________________________________________________________________________\n",
            "res_conv2d_9 (ResConv2D)        (None, 128, 128, 64) 294912      conv2d_87[0][0]                  \n",
            "__________________________________________________________________________________________________\n",
            "deconv2d_4 (Deconv2D)           (None, 256, 256, 64) 16448       res_conv2d_9[0][0]               \n",
            "__________________________________________________________________________________________________\n",
            "crop_and_concat_4 (CropAndConca (None, 256, 256, 96) 0           res_conv2d[0][0]                 \n",
            "__________________________________________________________________________________________________\n",
            "conv2d_101 (Conv2D)             (None, 256, 256, 32) 3200        crop_and_concat_4[0][0]          \n",
            "__________________________________________________________________________________________________\n",
            "res_conv2d_10 (ResConv2D)       (None, 256, 256, 32) 73728       conv2d_101[0][0]                 \n",
            "__________________________________________________________________________________________________\n",
            "crop_and_concat_5 (CropAndConca (None, 256, 256, 64) 0           conv2d[0][0]                     \n",
            "__________________________________________________________________________________________________\n",
            "conv2d_115 (Conv2D)             (None, 256, 256, 32) 2176        crop_and_concat_5[0][0]          \n",
            "__________________________________________________________________________________________________\n",
            "conv2d_117 (Conv2D)             (None, 256, 256, 32) 18496       conv2d_115[0][0]                 \n",
            "__________________________________________________________________________________________________\n",
            "conv2d_120 (Conv2D)             (None, 256, 256, 2)  66          conv2d_117[0][0]                 \n",
            "__________________________________________________________________________________________________\n",
            "pyramid_pooling_module_1 (Pyram (None, 256, 256, 64) 1152        conv2d_115[0][0]                 \n",
            "__________________________________________________________________________________________________\n",
            "distance (Softmax)              (None, 256, 256, 2)  0           conv2d_120[0][0]                 \n",
            "__________________________________________________________________________________________________\n",
            "crop_and_concat_6 (CropAndConca (None, 256, 256, 66) 0           pyramid_pooling_module_1[0][0]   \n",
            "__________________________________________________________________________________________________\n",
            "conv2d_121 (Conv2D)             (None, 256, 256, 32) 19040       crop_and_concat_6[0][0]          \n",
            "__________________________________________________________________________________________________\n",
            "conv2d_123 (Conv2D)             (None, 256, 256, 2)  66          conv2d_121[0][0]                 \n",
            "__________________________________________________________________________________________________\n",
            "boundary (Softmax)              (None, 256, 256, 2)  0           conv2d_123[0][0]                 \n",
            "__________________________________________________________________________________________________\n",
            "crop_and_concat_7 (CropAndConca (None, 256, 256, 68) 0           crop_and_concat_6[0][0]          \n",
            "__________________________________________________________________________________________________\n",
            "conv2d_124 (Conv2D)             (None, 256, 256, 32) 28864       crop_and_concat_7[0][0]          \n",
            "__________________________________________________________________________________________________\n",
            "conv2d_127 (Conv2D)             (None, 256, 256, 2)  66          conv2d_124[0][0]                 \n",
            "__________________________________________________________________________________________________\n",
            "extent (Softmax)                (None, 256, 256, 2)  0           conv2d_127[0][0]                 \n",
            "==================================================================================================\n",
            "Total params: 56,139,110\n",
            "Trainable params: 56,134,886\n",
            "Non-trainable params: 4,224\n",
            "__________________________________________________________________________________________________\n"
          ],
          "name": "stdout"
        }
      ]
    },
    {
      "cell_type": "code",
      "metadata": {
        "colab": {
          "base_uri": "https://localhost:8080/"
        },
        "id": "jhWg6YTcGDFR",
        "outputId": "e0f7be22-f586-48d9-c978-d09888875300"
      },
      "source": [
        "!unzip  \"/content/gdrive/My Drive/field-delineation/Data/ValidationData.zip\" -d \"/content\""
      ],
      "execution_count": null,
      "outputs": [
        {
          "output_type": "stream",
          "text": [
            "Archive:  /content/gdrive/My Drive/field-delineation/Data/ValidationData.zip\n",
            "   creating: /content/ValidationData/\n",
            "   creating: /content/ValidationData/boundary/\n",
            "  inflating: /content/ValidationData/boundary/S2_32VNH_202003_boundary.tif  \n",
            "  inflating: /content/ValidationData/boundary/S2_32VNH_202004_boundary.tif  \n",
            "  inflating: /content/ValidationData/boundary/S2_32VNH_202005_boundary.tif  \n",
            "  inflating: /content/ValidationData/boundary/S2_32VNH_202008_boundary.tif  \n",
            "   creating: /content/ValidationData/distance/\n",
            "  inflating: /content/ValidationData/distance/S2_32VNH_202003_distance.tif  \n",
            "  inflating: /content/ValidationData/distance/S2_32VNH_202004_distance.tif  \n",
            "  inflating: /content/ValidationData/distance/S2_32VNH_202005_distance.tif  \n",
            "  inflating: /content/ValidationData/distance/S2_32VNH_202006_distance.tif  \n",
            "  inflating: /content/ValidationData/distance/S2_32VNH_202007_distance.tif  \n",
            "  inflating: /content/ValidationData/distance/S2_32VNH_202008_distance.tif  \n",
            "   creating: /content/ValidationData/extent/\n",
            "  inflating: /content/ValidationData/extent/S2_32VNH_202003_extent.tif  \n",
            "  inflating: /content/ValidationData/extent/S2_32VNH_202004_extent.tif  \n",
            "  inflating: /content/ValidationData/extent/S2_32VNH_202005_extent.tif  \n",
            "  inflating: /content/ValidationData/extent/S2_32VNH_202006_extent.tif  \n",
            "  inflating: /content/ValidationData/extent/S2_32VNH_202007_extent.tif  \n",
            "  inflating: /content/ValidationData/extent/S2_32VNH_202008_extent.tif  \n",
            "   creating: /content/ValidationData/images/\n",
            " extracting: /content/ValidationData/images/S2_32VNH_202003.tif  \n",
            " extracting: /content/ValidationData/images/S2_32VNH_202004.tif  \n",
            " extracting: /content/ValidationData/images/S2_32VNH_202005.tif  \n",
            " extracting: /content/ValidationData/images/S2_32VNH_202006.tif  \n",
            " extracting: /content/ValidationData/images/S2_32VNH_202007.tif  \n",
            " extracting: /content/ValidationData/images/S2_32VNH_202008.tif  \n"
          ],
          "name": "stdout"
        }
      ]
    },
    {
      "cell_type": "code",
      "metadata": {
        "id": "LeFYesG6Lf0h"
      },
      "source": [
        "train_path = '/content/TrainingDataV1'\n",
        "train_gen = DataGenerator(train_path,augmentations=AUGMENTATIONS)"
      ],
      "execution_count": null,
      "outputs": []
    },
    {
      "cell_type": "code",
      "metadata": {
        "id": "uTblKswGgJJ-"
      },
      "source": [
        "val_path= '/content/ValidationData/'\n",
        "val_gen = DataGenerator(val_path,augmentations=AUGMENTATIONS)"
      ],
      "execution_count": null,
      "outputs": []
    },
    {
      "cell_type": "code",
      "metadata": {
        "colab": {
          "base_uri": "https://localhost:8080/"
        },
        "id": "9BGvi6htAg0J",
        "outputId": "4fe05389-897f-411e-9dd3-aefaf935e033"
      },
      "source": [
        "val_gen.__len__()"
      ],
      "execution_count": null,
      "outputs": [
        {
          "output_type": "execute_result",
          "data": {
            "text/plain": [
              "2000"
            ]
          },
          "metadata": {
            "tags": []
          },
          "execution_count": 27
        }
      ]
    },
    {
      "cell_type": "code",
      "metadata": {
        "colab": {
          "base_uri": "https://localhost:8080/"
        },
        "id": "pxWgerAQ-eNg",
        "outputId": "fa944dae-e54b-4a72-da94-80c5c072ef96"
      },
      "source": [
        "train_gen.__len__()"
      ],
      "execution_count": null,
      "outputs": [
        {
          "output_type": "execute_result",
          "data": {
            "text/plain": [
              "8000"
            ]
          },
          "metadata": {
            "tags": []
          },
          "execution_count": 28
        }
      ]
    },
    {
      "cell_type": "code",
      "metadata": {
        "id": "lUTkeaH6-3aq"
      },
      "source": [
        ""
      ],
      "execution_count": null,
      "outputs": []
    },
    {
      "cell_type": "code",
      "metadata": {
        "colab": {
          "base_uri": "https://localhost:8080/"
        },
        "id": "bwQ36ZgDMyTu",
        "outputId": "c4d2142e-f378-4b0c-853a-71762dd23539"
      },
      "source": [
        "print(train_gen.__len__())\n",
        "print(val_gen.__len__())"
      ],
      "execution_count": null,
      "outputs": [
        {
          "output_type": "stream",
          "text": [
            "8000\n",
            "2000\n"
          ],
          "name": "stdout"
        }
      ]
    },
    {
      "cell_type": "code",
      "metadata": {
        "id": "evEoDLgvNTzB"
      },
      "source": [
        "checkpoint_filepath = '/content/gdrive/My Drive/field-delineation/checkpoint_dir/' + \"Model_6_7\" + \".hdf5\" \n",
        "model_checkpoint_callback = tf.keras.callbacks.ModelCheckpoint(\n",
        "    filepath=checkpoint_filepath,save_freq='epoch',save_weights_only=True)"
      ],
      "execution_count": null,
      "outputs": []
    },
    {
      "cell_type": "code",
      "metadata": {
        "id": "hjFDcRc-NJU8"
      },
      "source": [
        "n_model = model.net.fit(train_gen,validation_data=val_gen,epochs = 50,callbacks=[model_checkpoint_callback])"
      ],
      "execution_count": null,
      "outputs": []
    },
    {
      "cell_type": "code",
      "metadata": {
        "id": "_cie-h-VGUHI"
      },
      "source": [
        "wandb.init(config=wandb_config, name=training_config['model_name'], project=\"field-delineation\")"
      ],
      "execution_count": null,
      "outputs": []
    },
    {
      "cell_type": "code",
      "metadata": {
        "id": "9N6SY-b9IFly",
        "colab": {
          "base_uri": "https://localhost:8080/"
        },
        "outputId": "64d6ac0d-b76e-4fef-db2f-1b1439682d71"
      },
      "source": [
        "callbacks_ = [model_checkpoint_callback] + [WandbCallback()]\n",
        "callbacks_ "
      ],
      "execution_count": null,
      "outputs": [
        {
          "output_type": "execute_result",
          "data": {
            "text/plain": [
              "[<tensorflow.python.keras.callbacks.ModelCheckpoint at 0x7f9c82739190>,\n",
              " <wandb.integration.keras.keras.WandbCallback at 0x7f9c4017f0d0>]"
            ]
          },
          "metadata": {
            "tags": []
          },
          "execution_count": 33
        }
      ]
    },
    {
      "cell_type": "code",
      "metadata": {
        "id": "1IEzw8pjp2gk"
      },
      "source": [
        "n_model = model.net.fit(train_gen,validation_data=val_gen,epochs = 20,callbacks=callbacks_)"
      ],
      "execution_count": null,
      "outputs": []
    },
    {
      "cell_type": "code",
      "metadata": {
        "colab": {
          "base_uri": "https://localhost:8080/"
        },
        "id": "11ePkFuJIlm3",
        "outputId": "59255f9b-8ff1-475c-dab0-128265c87268"
      },
      "source": [
        "n_model = model.net.fit(train_gen,validation_data=val_gen,epochs = 45,callbacks=callbacks_)"
      ],
      "execution_count": null,
      "outputs": [
        {
          "output_type": "stream",
          "text": [
            "Train for 8000 steps, validate for 2000 steps\n",
            "Epoch 1/45\n",
            "7750/8000 [============================>.] - ETA: 2:45 - loss: 0.2092 - extent_loss: 0.1150 - boundary_loss: 0.0916 - distance_loss: 0.0026 - extent_accuracy: 0.8429 - extent_mean_io_u: 0.2502 - boundary_accuracy: 0.8793 - boundary_mean_io_u: 0.2506 - distance_accuracy: 0.9989 - distance_mean_io_u: 0.4467"
          ],
          "name": "stdout"
        }
      ]
    },
    {
      "cell_type": "code",
      "metadata": {
        "id": "OrpQ3FFeNWJU"
      },
      "source": [
        "final_path = '/content/gdrive/My Drive/field-delineation/checkpoint_dir/' + \"Model_16_final\" + \".h5\" \n",
        "model.net.save(final_path)"
      ],
      "execution_count": null,
      "outputs": []
    },
    {
      "cell_type": "code",
      "metadata": {
        "id": "z3lLhmf1OsBQ"
      },
      "source": [
        "weights_path = '/content/gdrive/My Drive/field-delineation/checkpoint_dir/' + \"Model_2\" + \".hdf5\" \n",
        "new_model.net.load_weights(weights_path)"
      ],
      "execution_count": null,
      "outputs": []
    },
    {
      "cell_type": "code",
      "metadata": {
        "colab": {
          "base_uri": "https://localhost:8080/"
        },
        "id": "PoQ-WSuGPIhk",
        "outputId": "3196c359-2c2c-47f4-b320-63f714a1654a"
      },
      "source": [
        "testPath = \"./Data/TestData.zip\"\n",
        "!unzip \"/content/gdrive/My Drive/field-delineation/Data/TestData.zip\" -d \"/content\""
      ],
      "execution_count": null,
      "outputs": [
        {
          "output_type": "stream",
          "text": [
            "Archive:  /content/gdrive/My Drive/field-delineation/Data/TestData.zip\n",
            "   creating: /content/TestData/\n",
            "   creating: /content/TestData/boundaries/\n",
            "   creating: /content/TestData/boundaries/S2_32VNJ/\n",
            "  inflating: /content/TestData/boundaries/S2_32VNJ/S2_32VNJ_202003.tif  \n",
            "  inflating: /content/TestData/boundaries/S2_32VNJ/S2_32VNJ_202004.tif  \n",
            "  inflating: /content/TestData/boundaries/S2_32VNJ/S2_32VNJ_202005.tif  \n",
            "  inflating: /content/TestData/boundaries/S2_32VNJ/S2_32VNJ_202006.tif  \n",
            "  inflating: /content/TestData/boundaries/S2_32VNJ/S2_32VNJ_202007.tif  \n",
            "  inflating: /content/TestData/boundaries/S2_32VNJ/S2_32VNJ_202008.tif  \n",
            "   creating: /content/TestData/distances/\n",
            "   creating: /content/TestData/distances/S2_32VNJ/\n",
            "  inflating: /content/TestData/distances/S2_32VNJ/S2_32VNJ_202003.tif  \n",
            "  inflating: /content/TestData/distances/S2_32VNJ/S2_32VNJ_202004.tif  \n",
            "  inflating: /content/TestData/distances/S2_32VNJ/S2_32VNJ_202005.tif  \n",
            "  inflating: /content/TestData/distances/S2_32VNJ/S2_32VNJ_202006.tif  \n",
            "  inflating: /content/TestData/distances/S2_32VNJ/S2_32VNJ_202007.tif  \n",
            "  inflating: /content/TestData/distances/S2_32VNJ/S2_32VNJ_202008.tif  \n",
            "   creating: /content/TestData/extents/\n",
            "   creating: /content/TestData/extents/S2_32VNJ/\n",
            "  inflating: /content/TestData/extents/S2_32VNJ/S2_32VNJ_202003.tif  \n",
            "  inflating: /content/TestData/extents/S2_32VNJ/S2_32VNJ_202004.tif  \n",
            "  inflating: /content/TestData/extents/S2_32VNJ/S2_32VNJ_202005.tif  \n",
            "  inflating: /content/TestData/extents/S2_32VNJ/S2_32VNJ_202006.tif  \n",
            "  inflating: /content/TestData/extents/S2_32VNJ/S2_32VNJ_202007.tif  \n",
            "  inflating: /content/TestData/extents/S2_32VNJ/S2_32VNJ_202008.tif  \n",
            "   creating: /content/TestData/images/\n",
            "   creating: /content/TestData/images/S2_32VNJ/\n",
            "  inflating: /content/TestData/images/S2_32VNJ/S2_32VNJ_202003.tif  \n",
            "  inflating: /content/TestData/images/S2_32VNJ/S2_32VNJ_202004.tif  \n",
            "  inflating: /content/TestData/images/S2_32VNJ/S2_32VNJ_202005.tif  \n",
            "  inflating: /content/TestData/images/S2_32VNJ/S2_32VNJ_202006.tif  \n",
            "  inflating: /content/TestData/images/S2_32VNJ/S2_32VNJ_202007.tif  \n",
            "  inflating: /content/TestData/images/S2_32VNJ/S2_32VNJ_202008.tif  \n"
          ],
          "name": "stdout"
        }
      ]
    },
    {
      "cell_type": "code",
      "metadata": {
        "id": "zZay6BJGPP6t"
      },
      "source": [
        "test_path = '/content/TestData/'\n",
        "test_gen = DataGenerator(test_path,augmentations=AUGMENTATIONS)"
      ],
      "execution_count": null,
      "outputs": []
    },
    {
      "cell_type": "code",
      "metadata": {
        "colab": {
          "base_uri": "https://localhost:8080/"
        },
        "id": "o__rqswFn0ka",
        "outputId": "7ad9c880-d94f-4025-aff1-c18b01b3d394"
      },
      "source": [
        "test_gen.__len__()"
      ],
      "execution_count": null,
      "outputs": [
        {
          "output_type": "execute_result",
          "data": {
            "text/plain": [
              "2000"
            ]
          },
          "metadata": {
            "tags": []
          },
          "execution_count": 28
        }
      ]
    },
    {
      "cell_type": "code",
      "metadata": {
        "colab": {
          "base_uri": "https://localhost:8080/"
        },
        "id": "FaASKx8OOwN4",
        "outputId": "c7e7f3d0-9c2f-4676-9f87-e810336124d5"
      },
      "source": [
        "test_img = []\n",
        "test_lbl = []\n",
        "\n",
        "for x, y in test_gen_:\n",
        "  # Remove the first axis\n",
        "  x = np.array(x[0])\n",
        "\n",
        "  # Ge variance\n",
        "  variance = np.var(x)\n",
        "\n",
        "  if variance > 0.7:\n",
        "    test_img.append(x)\n",
        "    test_lbl.append(y)\n",
        "    print(variance)\n",
        "\n",
        "  if len(test_img) == 50:\n",
        "    break"
      ],
      "execution_count": null,
      "outputs": [
        {
          "output_type": "stream",
          "text": [
            "0.99671245\n",
            "2.637998\n",
            "0.8617667\n",
            "1.2194487\n",
            "1.0303494\n",
            "0.92984587\n",
            "1.6080006\n",
            "0.78400105\n",
            "1.0450505\n",
            "1.3490638\n",
            "1.2952706\n",
            "1.3058014\n",
            "1.4069698\n",
            "2.69006\n",
            "0.8199938\n",
            "1.0336186\n",
            "2.0170457\n",
            "1.8397642\n",
            "0.7597609\n",
            "0.8853295\n",
            "0.72238934\n",
            "0.87259364\n",
            "1.4014077\n",
            "1.216971\n",
            "1.0133148\n",
            "0.88301206\n",
            "0.8866005\n",
            "1.7175722\n",
            "1.377651\n",
            "0.7180938\n",
            "0.9305672\n",
            "0.94435465\n",
            "1.0955483\n",
            "1.7955472\n",
            "1.8985677\n",
            "1.2190585\n",
            "1.092673\n",
            "1.0283574\n",
            "2.2610111\n",
            "0.9533046\n",
            "1.0615063\n",
            "1.0227332\n",
            "0.70132285\n",
            "1.1116776\n",
            "0.7491943\n",
            "1.2622318\n",
            "1.2119089\n",
            "2.7914965\n",
            "1.2417936\n",
            "0.930295\n"
          ],
          "name": "stdout"
        }
      ]
    },
    {
      "cell_type": "code",
      "metadata": {
        "id": "l1S95QWIP4Ed"
      },
      "source": [
        ""
      ],
      "execution_count": null,
      "outputs": []
    },
    {
      "cell_type": "code",
      "metadata": {
        "colab": {
          "base_uri": "https://localhost:8080/"
        },
        "id": "ZY_j5MMzQFYh",
        "outputId": "ed632a07-1114-4e98-d9a5-c18b7b1f66c2"
      },
      "source": [
        "for val in test_img:\n",
        "\n",
        "  variance = np.var(val)\n",
        "  print(variance)\n"
      ],
      "execution_count": null,
      "outputs": [
        {
          "output_type": "stream",
          "text": [
            "0.99671245\n",
            "2.637998\n",
            "0.8617667\n",
            "1.2194487\n",
            "1.0303494\n",
            "0.92984587\n",
            "1.6080006\n",
            "0.78400105\n",
            "1.0450505\n",
            "1.3490638\n",
            "1.2952706\n",
            "1.3058014\n",
            "1.4069698\n",
            "2.69006\n",
            "0.8199938\n",
            "1.0336186\n",
            "2.0170457\n",
            "1.8397642\n",
            "0.7597609\n",
            "0.8853295\n",
            "0.72238934\n",
            "0.87259364\n",
            "1.4014077\n",
            "1.216971\n",
            "1.0133148\n",
            "0.88301206\n",
            "0.8866005\n",
            "1.7175722\n",
            "1.377651\n",
            "0.7180938\n",
            "0.9305672\n",
            "0.94435465\n",
            "1.0955483\n",
            "1.7955472\n",
            "1.8985677\n",
            "1.2190585\n",
            "1.092673\n",
            "1.0283574\n",
            "2.2610111\n",
            "0.9533046\n",
            "1.0615063\n",
            "1.0227332\n",
            "0.70132285\n",
            "1.1116776\n",
            "0.7491943\n",
            "1.2622318\n",
            "1.2119089\n",
            "2.7914965\n",
            "1.2417936\n",
            "0.930295\n"
          ],
          "name": "stdout"
        }
      ]
    },
    {
      "cell_type": "code",
      "metadata": {
        "id": "nefX4VBKvU4_"
      },
      "source": [
        ""
      ],
      "execution_count": null,
      "outputs": []
    },
    {
      "cell_type": "code",
      "metadata": {
        "colab": {
          "base_uri": "https://localhost:8080/",
          "height": 286
        },
        "id": "VQuoztJiMloP",
        "outputId": "a0f1b7e3-9900-4703-8f3b-4c824a27e3e8"
      },
      "source": [
        "show(X[4][:,:,0])"
      ],
      "execution_count": null,
      "outputs": [
        {
          "output_type": "display_data",
          "data": {
            "image/png": "[encoded data removed]",
            "text/plain": [
              "<Figure size 432x288 with 1 Axes>"
            ]
          },
          "metadata": {
            "tags": []
          }
        },
        {
          "output_type": "execute_result",
          "data": {
            "text/plain": [
              "<matplotlib.axes._subplots.AxesSubplot at 0x7ff2962bf950>"
            ]
          },
          "metadata": {
            "tags": []
          },
          "execution_count": 205
        }
      ]
    },
    {
      "cell_type": "code",
      "metadata": {
        "colab": {
          "base_uri": "https://localhost:8080/",
          "height": 286
        },
        "id": "TOquZhJaOg4D",
        "outputId": "c7ab076e-8e2f-42ae-9630-9fdd78c7a5a0"
      },
      "source": [
        "show(X[1][:,:,0])"
      ],
      "execution_count": null,
      "outputs": [
        {
          "output_type": "display_data",
          "data": {
            "image/png": "[encoded data removed]",
            "text/plain": [
              "<Figure size 432x288 with 1 Axes>"
            ]
          },
          "metadata": {
            "tags": []
          }
        },
        {
          "output_type": "execute_result",
          "data": {
            "text/plain": [
              "<matplotlib.axes._subplots.AxesSubplot at 0x7ff0b90f2f10>"
            ]
          },
          "metadata": {
            "tags": []
          },
          "execution_count": 206
        }
      ]
    },
    {
      "cell_type": "code",
      "metadata": {
        "id": "XnflKoH4N7Cf"
      },
      "source": [
        ""
      ],
      "execution_count": null,
      "outputs": []
    },
    {
      "cell_type": "code",
      "metadata": {
        "colab": {
          "base_uri": "https://localhost:8080/"
        },
        "id": "Kvcxrx85Fg11",
        "outputId": "3316116c-f878-4343-d5dd-3cfa289b4022"
      },
      "source": [
        "X_ = np.stack(test_img)\n",
        "print(X_.shape)\n",
        "Y_ = [np.stack([test_lbl[i][0] for i in range(20)]), np.stack([test_lbl[i][1] for i in range(20)]), np.stack([test_lbl[i][2] for i in range(20)])]\n",
        "len(Y_)"
      ],
      "execution_count": null,
      "outputs": [
        {
          "output_type": "stream",
          "text": [
            "(50, 256, 256, 4)\n"
          ],
          "name": "stdout"
        },
        {
          "output_type": "execute_result",
          "data": {
            "text/plain": [
              "3"
            ]
          },
          "metadata": {
            "tags": []
          },
          "execution_count": 47
        }
      ]
    },
    {
      "cell_type": "code",
      "metadata": {
        "colab": {
          "base_uri": "https://localhost:8080/"
        },
        "id": "xz0SwZ92GOiK",
        "outputId": "4caf89db-0bfb-4164-be25-8b4feaee10a7"
      },
      "source": [
        "(X_[3].shape)"
      ],
      "execution_count": null,
      "outputs": [
        {
          "output_type": "execute_result",
          "data": {
            "text/plain": [
              "(256, 256, 4)"
            ]
          },
          "metadata": {
            "tags": []
          },
          "execution_count": 214
        }
      ]
    },
    {
      "cell_type": "code",
      "metadata": {
        "id": "Jamg0QtcScBJ"
      },
      "source": [
        ""
      ],
      "execution_count": null,
      "outputs": []
    },
    {
      "cell_type": "code",
      "metadata": {
        "colab": {
          "base_uri": "https://localhost:8080/",
          "height": 286
        },
        "id": "GymHh1D49A6Z",
        "outputId": "875bd62c-cf59-4826-bd3a-9f6ab7416b2d"
      },
      "source": [
        ""
      ],
      "execution_count": null,
      "outputs": [
        {
          "output_type": "display_data",
          "data": {
            "image/png": "[encoded data removed]",
            "text/plain": [
              "<Figure size 432x288 with 1 Axes>"
            ]
          },
          "metadata": {
            "tags": []
          }
        },
        {
          "output_type": "execute_result",
          "data": {
            "text/plain": [
              "<matplotlib.axes._subplots.AxesSubplot at 0x7ff2bfee8a50>"
            ]
          },
          "metadata": {
            "tags": []
          },
          "execution_count": 59
        }
      ]
    },
    {
      "cell_type": "code",
      "metadata": {
        "id": "DWuGLaM6_5yz"
      },
      "source": [
        ""
      ],
      "execution_count": null,
      "outputs": []
    },
    {
      "cell_type": "code",
      "metadata": {
        "id": "zOg1noZuC-t5"
      },
      "source": [
        ""
      ],
      "execution_count": null,
      "outputs": []
    }
  ]
}